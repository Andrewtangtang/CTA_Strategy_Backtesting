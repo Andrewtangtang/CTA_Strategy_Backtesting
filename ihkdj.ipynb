{
 "cells": [
  {
   "cell_type": "code",
   "id": "initial_id",
   "metadata": {
    "collapsed": true,
    "jupyter": {
     "is_executing": true
    }
   },
   "source": [
    "import numpy as np\n",
    "import pandas\n",
    "import pandas as pd\n",
    "import talib as ta\n",
    "import vectorbt as vbt\n",
    "from numba import njit\n",
    "\n",
    "# Fetch data\n",
    "data = pandas.read_csv('BTC-USD1h.csv')\n",
    "data = data.set_index('Date')\n",
    "data=data[(data.index > '2020-01-01') & (data.index < '2023-06-30')]\n",
    "RSI = vbt.IndicatorFactory.from_talib(\"RSI\")\n",
    "STOCH = vbt.IndicatorFactory.from_talib(\"STOCH\")\n",
    "# Custom indicator function with Bollinger Bands filter\n",
    "def custom_indicator(close, high, low, rsi_window=14, fastk_period=9, slowk_period=3,slowd_period=3):\n",
    "    # Calculate RSI\n",
    "    rsi = RSI.run(close, rsi_window).real\n",
    "    # Calculate Stochastic Oscillator\n",
    "    stoch = STOCH.run(\n",
    "        high,\n",
    "        low,\n",
    "        close,\n",
    "        fastk_period=fastk_period,\n",
    "        slowk_period=slowk_period,\n",
    "        slowk_matype=0,\n",
    "        slowd_period=slowd_period,\n",
    "        slowd_matype=0   \n",
    "    )\n",
    "\n",
    "    # Convert to numpy arrays\n",
    "    rsi_values = rsi.to_numpy()\n",
    "    slowk_values = stoch.slowk.to_numpy()\n",
    "    slowd_values = stoch.slowd.to_numpy()\n",
    "    \n",
    "\n",
    "    # Ensure no NaNs\n",
    "    rsi_values = np.nan_to_num(rsi_values)\n",
    "    slowk_values = np.nan_to_num(slowk_values)\n",
    "    slowd_values = np.nan_to_num(slowd_values)\n",
    "\n",
    "    # Calculate trend\n",
    "    trend = np.where(\n",
    "        (rsi_values>60)&(slowk_values>slowd_values)&(slowk_values>50)&(slowd_values>50) , 1,\n",
    "        np.where(rsi_values<40, -1, 0)\n",
    "    )\n",
    "\n",
    "    return trend\n",
    "\n",
    "# Define the custom indicator using IndicatorFactory\n",
    "ind = vbt.IndicatorFactory(\n",
    "    class_name=\"Combination\",\n",
    "    short_name=\"comb\",\n",
    "    input_names=['close', 'high', 'low'],\n",
    "    param_names=['rsi_window', 'fastk_period', 'slowk_period', 'slowd_period'],\n",
    "    output_names=[\"value\"]\n",
    ").from_apply_func(\n",
    "    custom_indicator,\n",
    "    rsi_window=32,\n",
    "    fastk_period=9,\n",
    "    slowk_period=3,\n",
    "    slowd_period=3)\n",
    "\n",
    "# Run the indicator\n",
    "res = ind.run(\n",
    "    data['close'],\n",
    "    data['high'],\n",
    "    data['low'],\n",
    "    rsi_window=32,\n",
    "    fastk_period=9,\n",
    "    slowk_period=3,\n",
    "    slowd_period=3\n",
    ")\n",
    "\n",
    "# Generate entries and exits signals\n",
    "entries = res.value == 1\n",
    "exits = res.value == -1\n",
    "\n",
    "# Create a portfolio from the signals\n",
    "pf = vbt.Portfolio.from_signals(data['close'], entries, exits,freq='1h',direction='both',fees=0.04/100,sl_stop=0.05)\n",
    "# 显示回测结果\n",
    "print(pf.stats())\n",
    "pf.plot().show()\n"
   ],
   "outputs": [],
   "execution_count": null
  },
  {
   "metadata": {
    "ExecuteTime": {
     "end_time": "2024-08-17T16:13:08.325008Z",
     "start_time": "2024-08-17T16:13:08.292742Z"
    }
   },
   "cell_type": "code",
   "source": [
    "import numpy as np\n",
    "import pandas\n",
    "data = pandas.read_csv('成發輔助資料/BTCUSDT_1d.csv')\n",
    "data = data.set_index('open_time')\n",
    "data.index.names = ['Date']\n",
    "# Delete a single column\n",
    "data = data.drop(['close_time','Unnamed: 0'], axis=1)\n",
    "print(data)"
   ],
   "id": "917b1387329ae7f2",
   "outputs": [
    {
     "name": "stdout",
     "output_type": "stream",
     "text": [
      "                open      high       low     close      volume  quote_volume  \\\n",
      "Date                                                                           \n",
      "2020-01-01   7189.43   7260.43   7170.15   7197.57   56801.329  4.096788e+08   \n",
      "2020-01-02   7197.57   7209.59   6922.00   6962.04  115295.677  8.156278e+08   \n",
      "2020-01-03   6962.34   7407.28   6863.44   7341.72  208493.458  1.507314e+09   \n",
      "2020-01-04   7341.60   7400.00   7269.21   7350.71   92586.033  6.784024e+08   \n",
      "2020-01-05   7350.54   7495.00   7303.00   7354.36  117765.972  8.744885e+08   \n",
      "...              ...       ...       ...       ...         ...           ...   \n",
      "2024-06-26  61777.90  62465.10  60696.00  60860.10  170601.180  1.047422e+10   \n",
      "2024-06-27  60860.10  62379.70  60605.00  61682.00  160172.482  9.845346e+09   \n",
      "2024-06-28  61682.10  62204.00  60038.00  60429.80  195508.125  1.196316e+10   \n",
      "2024-06-29  60429.80  61232.00  60400.10  60982.40   79680.289  4.854467e+09   \n",
      "2024-06-30  60982.50  63058.40  60705.00  62766.00  147777.915  9.131797e+09   \n",
      "\n",
      "              count  taker_buy_volume  taker_buy_quote_volume  ignore  \n",
      "Date                                                                   \n",
      "2020-01-01   101871         28834.200            2.080020e+08       0  \n",
      "2020-01-02   224747         55404.262            3.919117e+08       0  \n",
      "2020-01-03   409820        107485.965            7.770568e+08       0  \n",
      "2020-01-04   186349         46139.090            3.381396e+08       0  \n",
      "2020-01-05   238905         58447.543            4.341202e+08       0  \n",
      "...             ...               ...                     ...     ...  \n",
      "2024-06-26  2072190         85546.810            5.252657e+09       0  \n",
      "2024-06-27  1943987         80692.923            4.959353e+09       0  \n",
      "2024-06-28  2261011         96784.819            5.922589e+09       0  \n",
      "2024-06-29  1008124         39587.752            2.411806e+09       0  \n",
      "2024-06-30  1720176         76847.014            4.748815e+09       0  \n",
      "\n",
      "[1639 rows x 10 columns]\n"
     ]
    }
   ],
   "execution_count": 40
  },
  {
   "metadata": {
    "ExecuteTime": {
     "end_time": "2024-08-17T16:13:17.107984Z",
     "start_time": "2024-08-17T16:13:17.088305Z"
    }
   },
   "cell_type": "code",
   "source": "data.to_csv('BTC-USD1d.csv')",
   "id": "9967f2c0def17056",
   "outputs": [],
   "execution_count": 41
  },
  {
   "metadata": {},
   "cell_type": "code",
   "outputs": [],
   "execution_count": null,
   "source": [
    "data = vbt.YFData.download(\n",
    "    \"BTC-USD\",\n",
    "    missing_index='drop',\n",
    "    start='2020-01-01',\n",
    "    end='2022-08-30',\n",
    "    interval=\"1D\"\n",
    ")"
   ],
   "id": "63b303b284e9734b"
  },
  {
   "metadata": {
    "ExecuteTime": {
     "end_time": "2024-08-17T15:37:40.794762Z",
     "start_time": "2024-08-17T15:37:40.772942Z"
    }
   },
   "cell_type": "code",
   "source": [
    " # Calculate Bollinger Bands\n",
    "bbands = vbt.BBANDS.run(\n",
    "    data.get('Close'),\n",
    "    window=20,\n",
    "    ewm=False,\n",
    "    alpha=2,\n",
    "    short_name='bb',\n",
    "    hide_params=None,\n",
    "    hide_default=True,\n",
    ")\n",
    "lower_band = bbands.lower\n",
    "middle_band = bbands.middle\n",
    "print(lower_band)\n",
    "print(middle_band)\n",
    "print(data.get('Close'))"
   ],
   "id": "5f08818385a34fee",
   "outputs": [
    {
     "name": "stdout",
     "output_type": "stream",
     "text": [
      "Date\n",
      "2019-12-31 00:00:00+00:00             NaN\n",
      "2020-01-01 00:00:00+00:00             NaN\n",
      "2020-01-02 00:00:00+00:00             NaN\n",
      "2020-01-03 00:00:00+00:00             NaN\n",
      "2020-01-04 00:00:00+00:00             NaN\n",
      "                                 ...     \n",
      "2022-08-25 00:00:00+00:00    20477.622860\n",
      "2022-08-26 00:00:00+00:00    20082.662578\n",
      "2022-08-27 00:00:00+00:00    19683.392891\n",
      "2022-08-28 00:00:00+00:00    19253.070729\n",
      "2022-08-29 00:00:00+00:00    19001.329012\n",
      "Freq: D, Name: (20, False, 2, Close), Length: 973, dtype: float64\n",
      "Date\n",
      "2019-12-31 00:00:00+00:00             NaN\n",
      "2020-01-01 00:00:00+00:00             NaN\n",
      "2020-01-02 00:00:00+00:00             NaN\n",
      "2020-01-03 00:00:00+00:00             NaN\n",
      "2020-01-04 00:00:00+00:00             NaN\n",
      "                                 ...     \n",
      "2022-08-25 00:00:00+00:00    22911.601074\n",
      "2022-08-26 00:00:00+00:00    22776.538086\n",
      "2022-08-27 00:00:00+00:00    22619.830469\n",
      "2022-08-28 00:00:00+00:00    22410.196875\n",
      "2022-08-29 00:00:00+00:00    22266.880664\n",
      "Freq: D, Name: (20, False, 2, Close), Length: 973, dtype: float64\n",
      "Date\n",
      "2019-12-31 00:00:00+00:00     7193.599121\n",
      "2020-01-01 00:00:00+00:00     7200.174316\n",
      "2020-01-02 00:00:00+00:00     6985.470215\n",
      "2020-01-03 00:00:00+00:00     7344.884277\n",
      "2020-01-04 00:00:00+00:00     7410.656738\n",
      "                                 ...     \n",
      "2022-08-25 00:00:00+00:00    21600.904297\n",
      "2022-08-26 00:00:00+00:00    20260.019531\n",
      "2022-08-27 00:00:00+00:00    20041.738281\n",
      "2022-08-28 00:00:00+00:00    19616.814453\n",
      "2022-08-29 00:00:00+00:00    20297.994141\n",
      "Freq: D, Name: Close, Length: 973, dtype: float64\n"
     ]
    }
   ],
   "execution_count": 11
  },
  {
   "metadata": {},
   "cell_type": "code",
   "outputs": [],
   "execution_count": null,
   "source": "",
   "id": "1035675b772bf803"
  }
 ],
 "metadata": {
  "kernelspec": {
   "display_name": "Python 3",
   "language": "python",
   "name": "python3"
  },
  "language_info": {
   "codemirror_mode": {
    "name": "ipython",
    "version": 2
   },
   "file_extension": ".py",
   "mimetype": "text/x-python",
   "name": "python",
   "nbconvert_exporter": "python",
   "pygments_lexer": "ipython2",
   "version": "2.7.6"
  }
 },
 "nbformat": 4,
 "nbformat_minor": 5
}
