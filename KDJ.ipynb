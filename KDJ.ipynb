{
 "cells": [
  {
   "cell_type": "code",
   "execution_count": null,
   "id": "initial_id",
   "metadata": {
    "collapsed": true
   },
   "outputs": [],
   "source": [
    "\n",
    "import vectorbt as vbt\n",
    "import pandas as pd\n",
    "import numpy as np\n",
    "import datetime\n",
    "\n",
    "\n",
    "btc_price = vbt.YFData.download(\n",
    "    \"BTC-USD\",\n",
    "    missing_index='drop',\n",
    "    start='2010-01-01',\n",
    "    end=datetime.datetime.now(),\n",
    "    interval=\"1D\").get(\"Close\")\n",
    "\n",
    "def custom_indicator(close, rsi_window = 14, ma_window = 50):\n",
    "\n",
    "    rsi = vbt.RSI.run(close, window = rsi_window).rsi\n",
    "    \n",
    "    rsi.fillna(0, inplace=True)\n",
    "\n",
    "    close = close.to_numpy()\n",
    "    rsi = rsi.to_numpy()\n",
    "    ma = vbt.MA.run(close, ma_window).ma.to_numpy()\n",
    "    trend = np.where( rsi > 70, -1, 0)\n",
    "    trend = np.where( (rsi < 30) & (close < ma), 1, trend)\n",
    "    return trend\n",
    "\n",
    "ind = vbt.IndicatorFactory(\n",
    "    class_name = \"Combination\",\n",
    "    short_name = \"comb\",\n",
    "    input_names = [\"close\"],\n",
    "    param_names = [\"rsi_window\", \"ma_window\"],\n",
    "    output_names = [\"value\"]\n",
    ").from_apply_func(\n",
    "    custom_indicator,\n",
    "    rsi_window = 14,\n",
    "    ma_window = 50,\n",
    "    keep_pd=True\n",
    ")\n",
    "\n",
    "res = ind.run(\n",
    "    btc_price,\n",
    "    rsi_window = 21,\n",
    "    ma_window = 50\n",
    ")\n",
    "\n",
    "print(res.value.to_string())\n",
    "\n",
    "entries = res.value == 1.0\n",
    "exits = res.value == -1.0\n",
    "\n",
    "pf1 = vbt.Portfolio.from_signals(btc_price, entries, exits)\n",
    "\n",
    "print(pf1.total_return())"
   ]
  },
  {
   "metadata": {
    "ExecuteTime": {
     "end_time": "2024-08-11T06:56:53.682069Z",
     "start_time": "2024-08-11T06:56:19.448836Z"
    }
   },
   "cell_type": "code",
   "source": [
    "\n",
    "import vectorbt as vbt\n",
    "import pandas as pd\n",
    "import numpy as np\n",
    "import datetime\n",
    "\n",
    "\n",
    "btc_price = vbt.YFData.download(\n",
    "    \"BTC-USD\",\n",
    "    missing_index='drop',\n",
    "    start='2010-01-01',\n",
    "    end=datetime.datetime.now(),\n",
    "    interval=\"1D\")"
   ],
   "id": "124ebc32c7cff8d5",
   "outputs": [
    {
     "name": "stderr",
     "output_type": "stream",
     "text": [
      "C:\\Users\\User\\Desktop\\backtestsystem\\.venv\\Lib\\site-packages\\telegram\\utils\\request.py:49: UserWarning: python-telegram-bot is using upstream urllib3. This is allowed but not supported by python-telegram-bot maintainers.\n",
      "  warnings.warn(\n"
     ]
    }
   ],
   "execution_count": 1
  },
  {
   "metadata": {
    "ExecuteTime": {
     "end_time": "2024-08-11T07:08:51.407551Z",
     "start_time": "2024-08-11T07:08:50.533972Z"
    }
   },
   "cell_type": "code",
   "source": [
    "import talib as ta\n",
    "short=ta.EMA(btc_price, timeperiod=7)"
   ],
   "id": "fc34bcafb70175be",
   "outputs": [],
   "execution_count": 3
  },
  {
   "metadata": {
    "ExecuteTime": {
     "end_time": "2024-08-11T07:09:14.443163Z",
     "start_time": "2024-08-11T07:09:14.420267Z"
    }
   },
   "cell_type": "code",
   "source": [
    "print(btc_price.head())\n",
    "print(short.tail())"
   ],
   "id": "6562e4781669e90b",
   "outputs": [
    {
     "name": "stdout",
     "output_type": "stream",
     "text": [
      "Date\n",
      "2014-09-17 00:00:00+00:00    457.334015\n",
      "2014-09-18 00:00:00+00:00    424.440002\n",
      "2014-09-19 00:00:00+00:00    394.795990\n",
      "2014-09-20 00:00:00+00:00    408.903992\n",
      "2014-09-21 00:00:00+00:00    398.821014\n",
      "Freq: D, Name: Close, dtype: float64\n",
      "Date\n",
      "2024-08-07 00:00:00+00:00    58182.506907\n",
      "2024-08-08 00:00:00+00:00    59064.414360\n",
      "2024-08-09 00:00:00+00:00    59518.339090\n",
      "2024-08-10 00:00:00+00:00    59875.207443\n",
      "2024-08-11 00:00:00+00:00    60191.261051\n",
      "Freq: D, dtype: float64\n"
     ]
    }
   ],
   "execution_count": 5
  },
  {
   "metadata": {},
   "cell_type": "code",
   "outputs": [],
   "execution_count": null,
   "source": [
    "import talib as ta\n",
    "def custom_indicator(close, short_window = 7,long_window=14, ):\n",
    "\n",
    "    shortEMA=ta.EMA(close, timeperiod=short_window)\n",
    "    longEMA=ta.EMA(close, timeperiod=long_window)\n",
    "\n",
    "    close = close.to_numpy()\n",
    "    rsi = rsi.to_numpy()\n",
    "    ma = vbt.MA.run(close, ma_window).ma.to_numpy()\n",
    "    trend = np.where( rsi > 70, -1, 0)\n",
    "    trend = np.where( (rsi < 30) & (close < ma), 1, trend)\n",
    "    return trend\n",
    "\n",
    "\n",
    "\n",
    "def custom_indicator1(close, rsi_window = 14, ma_window = 50):\n",
    "\n",
    "    rsi = vbt.RSI.run(close, window = rsi_window).rsi\n",
    "\n",
    "    rsi.fillna(0, inplace=True)\n",
    "\n",
    "    close = close.to_numpy()\n",
    "    rsi = rsi.to_numpy()\n",
    "    ma = vbt.MA.run(close, ma_window).ma.to_numpy()\n",
    "    trend = np.where( rsi > 70, -1, 0)\n",
    "    trend = np.where( (rsi < 30) & (close < ma), 1, trend)\n",
    "    return trend"
   ],
   "id": "a0841219cd82bd19"
  },
  {
   "metadata": {
    "ExecuteTime": {
     "end_time": "2024-08-11T07:33:38.360726Z",
     "start_time": "2024-08-11T07:33:37.885257Z"
    }
   },
   "cell_type": "code",
   "source": [
    "btc_price = vbt.YFData.download(\n",
    "    \"BTC-USD\",\n",
    "    missing_index='drop',\n",
    "    start='2010-01-01',\n",
    "    end=datetime.datetime.now(),\n",
    "    interval=\"1D\")\n",
    "print(btc_price.get('Close'))"
   ],
   "id": "c589dbd39965410a",
   "outputs": [
    {
     "name": "stdout",
     "output_type": "stream",
     "text": [
      "Date\n",
      "2014-09-17 00:00:00+00:00      457.334015\n",
      "2014-09-18 00:00:00+00:00      424.440002\n",
      "2014-09-19 00:00:00+00:00      394.795990\n",
      "2014-09-20 00:00:00+00:00      408.903992\n",
      "2014-09-21 00:00:00+00:00      398.821014\n",
      "                                 ...     \n",
      "2024-08-07 00:00:00+00:00    55027.460938\n",
      "2024-08-08 00:00:00+00:00    61710.136719\n",
      "2024-08-09 00:00:00+00:00    60880.113281\n",
      "2024-08-10 00:00:00+00:00    60945.812500\n",
      "2024-08-11 00:00:00+00:00    61145.425781\n",
      "Freq: D, Name: Close, Length: 3617, dtype: float64\n"
     ]
    }
   ],
   "execution_count": 15
  },
  {
   "metadata": {
    "ExecuteTime": {
     "end_time": "2024-08-11T07:34:15.992973Z",
     "start_time": "2024-08-11T07:34:08.857381Z"
    }
   },
   "cell_type": "code",
   "source": [
    "obv=vbt.OBV.run(btc_price.get('Close'),btc_price.get('Volume')).obv\n",
    "print(obv)"
   ],
   "id": "58f16a572111ace",
   "outputs": [
    {
     "name": "stdout",
     "output_type": "stream",
     "text": [
      "Date\n",
      "2014-09-17 00:00:00+00:00         21056800\n",
      "2014-09-18 00:00:00+00:00        -13426400\n",
      "2014-09-19 00:00:00+00:00        -51346100\n",
      "2014-09-20 00:00:00+00:00        -14482500\n",
      "2014-09-21 00:00:00+00:00        -41062600\n",
      "                                 ...      \n",
      "2024-08-07 00:00:00+00:00    1200524099919\n",
      "2024-08-08 00:00:00+00:00    1245822572486\n",
      "2024-08-09 00:00:00+00:00    1212397019371\n",
      "2024-08-10 00:00:00+00:00    1228142841649\n",
      "2024-08-11 00:00:00+00:00    1242736959281\n",
      "Freq: D, Length: 3617, dtype: int64\n"
     ]
    }
   ],
   "execution_count": 16
  },
  {
   "metadata": {},
   "cell_type": "code",
   "outputs": [],
   "execution_count": null,
   "source": "",
   "id": "fff74742761d940"
  }
 ],
 "metadata": {
  "kernelspec": {
   "display_name": "Python 3",
   "language": "python",
   "name": "python3"
  },
  "language_info": {
   "codemirror_mode": {
    "name": "ipython",
    "version": 2
   },
   "file_extension": ".py",
   "mimetype": "text/x-python",
   "name": "python",
   "nbconvert_exporter": "python",
   "pygments_lexer": "ipython2",
   "version": "2.7.6"
  }
 },
 "nbformat": 4,
 "nbformat_minor": 5
}
